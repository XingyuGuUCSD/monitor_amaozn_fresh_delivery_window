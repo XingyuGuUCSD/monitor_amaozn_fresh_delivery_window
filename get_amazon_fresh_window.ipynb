{
 "cells": [
  {
   "cell_type": "code",
   "execution_count": null,
   "metadata": {},
   "outputs": [],
   "source": [
    "import requests\n",
    "import json\n",
    "import os\n",
    "import sys\n",
    "import datetime\n",
    "from time import sleep\n",
    "import webbrowser"
   ]
  },
  {
   "cell_type": "code",
   "execution_count": null,
   "metadata": {},
   "outputs": [],
   "source": [
    "## prep the following things based on the tutorial\n",
    "head_json_path = \"www.amazon.com.json\"\n",
    "session_id = \"\"\n",
    "amazon_fresh_brandId = \"\"\n",
    "wholdfood_brandId=\"\"\n",
    "\n",
    "#unit is second, recommand check the status no more frequent that every 3 mins, in case that amazon might block your account\n",
    "check_time_interval_seconds = 180 "
   ]
  },
  {
   "cell_type": "code",
   "execution_count": null,
   "metadata": {},
   "outputs": [],
   "source": [
    "wav_file_path = \"fire-truck-air-horn_daniel-simion.mp3\"\n",
    "fresh_url = \"https://amazon.com/gp/checkoutportal/enter-checkout.html/ref=alm_cx_byg_proceed?proceedToCheckout=1&ie=UTF8&isFresh=1&useDefaultCart=1&brandId={}&sessionID={}\".format(amazon_fresh_brandId, session_id)\n",
    "wholefood_url = \"https://amazon.com/gp/checkoutportal/enter-checkout.html/ref=alm_cx_byg_proceed?proceedToCheckout=1&ie=UTF8&isFresh=1&useDefaultCart=1&brandId={}&sessionID={}\".format(wholdfood_brandId, session_id)"
   ]
  },
  {
   "cell_type": "code",
   "execution_count": null,
   "metadata": {},
   "outputs": [],
   "source": [
    "wav_file_path = os.path.join(os.getcwd(), \"data\", wav_file_path)\n",
    "head_json_path = os.path.join(os.getcwd(), \"data\", head_json_path)"
   ]
  },
  {
   "cell_type": "code",
   "execution_count": null,
   "metadata": {},
   "outputs": [],
   "source": [
    "url_list = [fresh_url, wholefood_url] # could modify to the specific web service you want to modify"
   ]
  },
  {
   "cell_type": "code",
   "execution_count": null,
   "metadata": {},
   "outputs": [],
   "source": [
    "assert os.path.exists(head_json_path), \"fail to find your json file downloaded from chome, please download it and save it as :{}\".format(head_json_path)"
   ]
  },
  {
   "cell_type": "code",
   "execution_count": null,
   "metadata": {},
   "outputs": [],
   "source": [
    "with open(head_json_path, 'r') as j:\n",
    "     dict_ = json.loads(j.read())\n",
    "\n",
    "request = dict_['log']['entries'][0]['request']\n",
    "url = request['url']\n",
    "headers_list = request['headers']\n",
    "\n",
    "headers = {}\n",
    "for ele in headers_list:\n",
    "    key = ele['name']\n",
    "    if key.startswith(\":\"):\n",
    "        key = key[1:]\n",
    "    headers[key] = ele['value']\n",
    "\n",
    "\n",
    "while True:\n",
    "    find = False\n",
    "    for url in url_list:\n",
    "        webbrowser.get(using='google-chrome').open(url,new=2)\n",
    "        sleep(15)\n",
    "        response = requests.get(request['url'], headers=headers)\n",
    "        \n",
    "        brand = \"\"\n",
    "        if url == fresh_url:\n",
    "            brand = \"amazon fresh\"\n",
    "        else:\n",
    "            brand = \"wholefoods\"\n",
    "        \n",
    "        if \"AM -\" in str(response.content) or \"PM -\" in str(response.content):\n",
    "            print(response.content)\n",
    "            print(\"{} catches a delivery window, shop now !!!!\".format(brand))\n",
    "            find = True\n",
    "            break\n",
    "        else:\n",
    "            print(\"{} -- {} no delivery time\".format(datetime.datetime.now(), brand))\n",
    "    \n",
    "    if find:\n",
    "        break\n",
    "    else:\n",
    "        sleep(check_time_interval_seconds)\n",
    "    \n",
    "while True:\n",
    "    cmd = 'vlc ' + wav_file_path\n",
    "    os.system(cmd)\n",
    "    sleep(20)"
   ]
  }
 ],
 "metadata": {
  "kernelspec": {
   "display_name": "Python 3",
   "language": "python",
   "name": "python3"
  },
  "language_info": {
   "codemirror_mode": {
    "name": "ipython",
    "version": 3
   },
   "file_extension": ".py",
   "mimetype": "text/x-python",
   "name": "python",
   "nbconvert_exporter": "python",
   "pygments_lexer": "ipython3",
   "version": "3.6.9"
  }
 },
 "nbformat": 4,
 "nbformat_minor": 2
}
