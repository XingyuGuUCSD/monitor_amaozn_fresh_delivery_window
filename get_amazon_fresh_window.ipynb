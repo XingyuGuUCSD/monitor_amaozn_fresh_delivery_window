{
 "cells": [
  {
   "cell_type": "code",
   "execution_count": null,
   "metadata": {},
   "outputs": [],
   "source": [
    "import requests\n",
    "import json\n",
    "import os\n",
    "import sys\n",
    "import datetime\n",
    "from time import sleep"
   ]
  },
  {
   "cell_type": "code",
   "execution_count": null,
   "metadata": {},
   "outputs": [],
   "source": [
    "head_json_path = \"www.amazon.com.json\"\n",
    "wav_file_path = \"fire-truck-air-horn_daniel-simion.mp3\"\n",
    "check_time_interval_seconds = 180 #unit is second, recommand check the status no more frequent that every 3 mins, in case that amazon block your account"
   ]
  },
  {
   "cell_type": "code",
   "execution_count": null,
   "metadata": {},
   "outputs": [],
   "source": [
    "wav_file_path = os.path.join(os.getcwd(), \"data\", wav_file_path)\n",
    "head_json_path = os.path.join(os.getcwd(), \"data\", head_json_path)"
   ]
  },
  {
   "cell_type": "code",
   "execution_count": null,
   "metadata": {},
   "outputs": [],
   "source": [
    "assert os.path.exists(head_json_path), \"fail to find your json file downloaded from chome, please download it and save it as :{}\".format(head_json_path)"
   ]
  },
  {
   "cell_type": "code",
   "execution_count": null,
   "metadata": {},
   "outputs": [],
   "source": [
    "with open(head_json_path, 'r') as j:\n",
    "     dict_ = json.loads(j.read())\n",
    "\n",
    "request = dict_['log']['entries'][0]['request']\n",
    "url = request['url']\n",
    "headers_list = request['headers']\n",
    "\n",
    "headers = {}\n",
    "for ele in headers_list:\n",
    "    key = ele['name']\n",
    "    if key.startswith(\":\"):\n",
    "        key = key[1:]\n",
    "    headers[key] = ele['value']\n",
    "\n",
    "while True:\n",
    "    response = requests.get(request['url'], headers=headers)\n",
    "    if \"No delivery windows available. New windows are released throughout the day.\" not in str(response.content):\n",
    "        cmd = 'vlc ' + wav_file_path\n",
    "        os.system(cmd)\n",
    "        break\n",
    "    else:\n",
    "        print(\"{} -- no delivery time\".format(datetime.datetime.now()))\n",
    "    sleep(check_time_interval_seconds)"
   ]
  }
 ],
 "metadata": {
  "kernelspec": {
   "display_name": "Python 3",
   "language": "python",
   "name": "python3"
  },
  "language_info": {
   "codemirror_mode": {
    "name": "ipython",
    "version": 3
   },
   "file_extension": ".py",
   "mimetype": "text/x-python",
   "name": "python",
   "nbconvert_exporter": "python",
   "pygments_lexer": "ipython3",
   "version": "3.6.9"
  }
 },
 "nbformat": 4,
 "nbformat_minor": 2
}
